{
  "nbformat": 4,
  "nbformat_minor": 0,
  "metadata": {
    "colab": {
      "name": "week-1 Intro to Machine Learning.ipynb",
      "provenance": [],
      "collapsed_sections": [],
      "mount_file_id": "139lZnyQWqV94rLz_GPtcQrB0jyBzSTVn",
      "authorship_tag": "ABX9TyMKyZgt2LoO3Oec/ZRqmXHI",
      "include_colab_link": true
    },
    "kernelspec": {
      "name": "python3",
      "display_name": "Python 3"
    },
    "language_info": {
      "name": "python"
    }
  },
  "cells": [
    {
      "cell_type": "markdown",
      "metadata": {
        "id": "view-in-github",
        "colab_type": "text"
      },
      "source": [
        "<a href=\"https://colab.research.google.com/github/isnidwi26/Machine-Learning-Course/blob/main/week_1_Intro_to_Machine_Learning.ipynb\" target=\"_parent\"><img src=\"https://colab.research.google.com/assets/colab-badge.svg\" alt=\"Open In Colab\"/></a>"
      ]
    },
    {
      "cell_type": "code",
      "metadata": {
        "colab": {
          "base_uri": "https://localhost:8080/"
        },
        "id": "qESykvJnGaiZ",
        "outputId": "0fa5d4f4-59ce-4381-8601-b4d2258929f9"
      },
      "source": [
        "from google.colab import drive\n",
        "drive.mount('/content/drive')"
      ],
      "execution_count": 2,
      "outputs": [
        {
          "output_type": "stream",
          "name": "stdout",
          "text": [
            "Drive already mounted at /content/drive; to attempt to forcibly remount, call drive.mount(\"/content/drive\", force_remount=True).\n"
          ]
        }
      ]
    },
    {
      "cell_type": "code",
      "metadata": {
        "id": "j4b1g_kkHr-s"
      },
      "source": [
        "# Code you have previously used to load data\n",
        "import pandas as pd\n",
        "from sklearn.tree import DecisionTreeRegressor\n",
        "from sklearn.metrics import mean_absolute_error\n",
        "from sklearn.model_selection import train_test_split\n",
        "from sklearn.ensemble import RandomForestRegressor\n"
      ],
      "execution_count": 10,
      "outputs": []
    },
    {
      "cell_type": "code",
      "metadata": {
        "id": "rBHN-eJAI7dA"
      },
      "source": [
        "# Path of the file to read\n",
        "iowa_file_path = '/content/drive/MyDrive/Machine Learning/dataset/week-1/train.csv'\n",
        "\n",
        "home_data = pd.read_csv(iowa_file_path)\n",
        "y = home_data.SalePrice\n",
        "\n",
        "home_data.describe()\n",
        "\n",
        "feature_columns = ['LotArea', 'YearBuilt', '1stFlrSF', '2ndFlrSF', 'FullBath', 'BedroomAbvGr', 'TotRmsAbvGrd']\n",
        "x = home_data[feature_columns]"
      ],
      "execution_count": 5,
      "outputs": []
    },
    {
      "cell_type": "code",
      "metadata": {
        "colab": {
          "base_uri": "https://localhost:8080/",
          "height": 294
        },
        "id": "JthkEuDpe6yf",
        "outputId": "ec3a7c31-a638-4caf-88d4-16534defe904"
      },
      "source": [
        "x.describe()"
      ],
      "execution_count": 6,
      "outputs": [
        {
          "output_type": "execute_result",
          "data": {
            "text/html": [
              "<div>\n",
              "<style scoped>\n",
              "    .dataframe tbody tr th:only-of-type {\n",
              "        vertical-align: middle;\n",
              "    }\n",
              "\n",
              "    .dataframe tbody tr th {\n",
              "        vertical-align: top;\n",
              "    }\n",
              "\n",
              "    .dataframe thead th {\n",
              "        text-align: right;\n",
              "    }\n",
              "</style>\n",
              "<table border=\"1\" class=\"dataframe\">\n",
              "  <thead>\n",
              "    <tr style=\"text-align: right;\">\n",
              "      <th></th>\n",
              "      <th>LotArea</th>\n",
              "      <th>YearBuilt</th>\n",
              "      <th>1stFlrSF</th>\n",
              "      <th>2ndFlrSF</th>\n",
              "      <th>FullBath</th>\n",
              "      <th>BedroomAbvGr</th>\n",
              "      <th>TotRmsAbvGrd</th>\n",
              "    </tr>\n",
              "  </thead>\n",
              "  <tbody>\n",
              "    <tr>\n",
              "      <th>count</th>\n",
              "      <td>1460.000000</td>\n",
              "      <td>1460.000000</td>\n",
              "      <td>1460.000000</td>\n",
              "      <td>1460.000000</td>\n",
              "      <td>1460.000000</td>\n",
              "      <td>1460.000000</td>\n",
              "      <td>1460.000000</td>\n",
              "    </tr>\n",
              "    <tr>\n",
              "      <th>mean</th>\n",
              "      <td>10516.828082</td>\n",
              "      <td>1971.267808</td>\n",
              "      <td>1162.626712</td>\n",
              "      <td>346.992466</td>\n",
              "      <td>1.565068</td>\n",
              "      <td>2.866438</td>\n",
              "      <td>6.517808</td>\n",
              "    </tr>\n",
              "    <tr>\n",
              "      <th>std</th>\n",
              "      <td>9981.264932</td>\n",
              "      <td>30.202904</td>\n",
              "      <td>386.587738</td>\n",
              "      <td>436.528436</td>\n",
              "      <td>0.550916</td>\n",
              "      <td>0.815778</td>\n",
              "      <td>1.625393</td>\n",
              "    </tr>\n",
              "    <tr>\n",
              "      <th>min</th>\n",
              "      <td>1300.000000</td>\n",
              "      <td>1872.000000</td>\n",
              "      <td>334.000000</td>\n",
              "      <td>0.000000</td>\n",
              "      <td>0.000000</td>\n",
              "      <td>0.000000</td>\n",
              "      <td>2.000000</td>\n",
              "    </tr>\n",
              "    <tr>\n",
              "      <th>25%</th>\n",
              "      <td>7553.500000</td>\n",
              "      <td>1954.000000</td>\n",
              "      <td>882.000000</td>\n",
              "      <td>0.000000</td>\n",
              "      <td>1.000000</td>\n",
              "      <td>2.000000</td>\n",
              "      <td>5.000000</td>\n",
              "    </tr>\n",
              "    <tr>\n",
              "      <th>50%</th>\n",
              "      <td>9478.500000</td>\n",
              "      <td>1973.000000</td>\n",
              "      <td>1087.000000</td>\n",
              "      <td>0.000000</td>\n",
              "      <td>2.000000</td>\n",
              "      <td>3.000000</td>\n",
              "      <td>6.000000</td>\n",
              "    </tr>\n",
              "    <tr>\n",
              "      <th>75%</th>\n",
              "      <td>11601.500000</td>\n",
              "      <td>2000.000000</td>\n",
              "      <td>1391.250000</td>\n",
              "      <td>728.000000</td>\n",
              "      <td>2.000000</td>\n",
              "      <td>3.000000</td>\n",
              "      <td>7.000000</td>\n",
              "    </tr>\n",
              "    <tr>\n",
              "      <th>max</th>\n",
              "      <td>215245.000000</td>\n",
              "      <td>2010.000000</td>\n",
              "      <td>4692.000000</td>\n",
              "      <td>2065.000000</td>\n",
              "      <td>3.000000</td>\n",
              "      <td>8.000000</td>\n",
              "      <td>14.000000</td>\n",
              "    </tr>\n",
              "  </tbody>\n",
              "</table>\n",
              "</div>"
            ],
            "text/plain": [
              "             LotArea    YearBuilt  ...  BedroomAbvGr  TotRmsAbvGrd\n",
              "count    1460.000000  1460.000000  ...   1460.000000   1460.000000\n",
              "mean    10516.828082  1971.267808  ...      2.866438      6.517808\n",
              "std      9981.264932    30.202904  ...      0.815778      1.625393\n",
              "min      1300.000000  1872.000000  ...      0.000000      2.000000\n",
              "25%      7553.500000  1954.000000  ...      2.000000      5.000000\n",
              "50%      9478.500000  1973.000000  ...      3.000000      6.000000\n",
              "75%     11601.500000  2000.000000  ...      3.000000      7.000000\n",
              "max    215245.000000  2010.000000  ...      8.000000     14.000000\n",
              "\n",
              "[8 rows x 7 columns]"
            ]
          },
          "metadata": {},
          "execution_count": 6
        }
      ]
    },
    {
      "cell_type": "code",
      "metadata": {
        "colab": {
          "base_uri": "https://localhost:8080/",
          "height": 202
        },
        "id": "E0T8EiJifbk6",
        "outputId": "a1ea3add-77d4-4672-c447-4f7496cd25b0"
      },
      "source": [
        "x.head()"
      ],
      "execution_count": 7,
      "outputs": [
        {
          "output_type": "execute_result",
          "data": {
            "text/html": [
              "<div>\n",
              "<style scoped>\n",
              "    .dataframe tbody tr th:only-of-type {\n",
              "        vertical-align: middle;\n",
              "    }\n",
              "\n",
              "    .dataframe tbody tr th {\n",
              "        vertical-align: top;\n",
              "    }\n",
              "\n",
              "    .dataframe thead th {\n",
              "        text-align: right;\n",
              "    }\n",
              "</style>\n",
              "<table border=\"1\" class=\"dataframe\">\n",
              "  <thead>\n",
              "    <tr style=\"text-align: right;\">\n",
              "      <th></th>\n",
              "      <th>LotArea</th>\n",
              "      <th>YearBuilt</th>\n",
              "      <th>1stFlrSF</th>\n",
              "      <th>2ndFlrSF</th>\n",
              "      <th>FullBath</th>\n",
              "      <th>BedroomAbvGr</th>\n",
              "      <th>TotRmsAbvGrd</th>\n",
              "    </tr>\n",
              "  </thead>\n",
              "  <tbody>\n",
              "    <tr>\n",
              "      <th>0</th>\n",
              "      <td>8450</td>\n",
              "      <td>2003</td>\n",
              "      <td>856</td>\n",
              "      <td>854</td>\n",
              "      <td>2</td>\n",
              "      <td>3</td>\n",
              "      <td>8</td>\n",
              "    </tr>\n",
              "    <tr>\n",
              "      <th>1</th>\n",
              "      <td>9600</td>\n",
              "      <td>1976</td>\n",
              "      <td>1262</td>\n",
              "      <td>0</td>\n",
              "      <td>2</td>\n",
              "      <td>3</td>\n",
              "      <td>6</td>\n",
              "    </tr>\n",
              "    <tr>\n",
              "      <th>2</th>\n",
              "      <td>11250</td>\n",
              "      <td>2001</td>\n",
              "      <td>920</td>\n",
              "      <td>866</td>\n",
              "      <td>2</td>\n",
              "      <td>3</td>\n",
              "      <td>6</td>\n",
              "    </tr>\n",
              "    <tr>\n",
              "      <th>3</th>\n",
              "      <td>9550</td>\n",
              "      <td>1915</td>\n",
              "      <td>961</td>\n",
              "      <td>756</td>\n",
              "      <td>1</td>\n",
              "      <td>3</td>\n",
              "      <td>7</td>\n",
              "    </tr>\n",
              "    <tr>\n",
              "      <th>4</th>\n",
              "      <td>14260</td>\n",
              "      <td>2000</td>\n",
              "      <td>1145</td>\n",
              "      <td>1053</td>\n",
              "      <td>2</td>\n",
              "      <td>4</td>\n",
              "      <td>9</td>\n",
              "    </tr>\n",
              "  </tbody>\n",
              "</table>\n",
              "</div>"
            ],
            "text/plain": [
              "   LotArea  YearBuilt  1stFlrSF  2ndFlrSF  FullBath  BedroomAbvGr  TotRmsAbvGrd\n",
              "0     8450       2003       856       854         2             3             8\n",
              "1     9600       1976      1262         0         2             3             6\n",
              "2    11250       2001       920       866         2             3             6\n",
              "3     9550       1915       961       756         1             3             7\n",
              "4    14260       2000      1145      1053         2             4             9"
            ]
          },
          "metadata": {},
          "execution_count": 7
        }
      ]
    },
    {
      "cell_type": "code",
      "metadata": {
        "id": "wFp_FCklJgfC",
        "colab": {
          "base_uri": "https://localhost:8080/"
        },
        "outputId": "ec5a8920-e818-43d1-9b35-470114f6b594"
      },
      "source": [
        "# Specify Model\n",
        "iowa_model = DecisionTreeRegressor()\n",
        "# Fit Model\n",
        "iowa_model.fit(x, y)\n",
        "\n",
        "print(x.head())\n",
        "print(\"\\nFirst in-sample predictions:\", iowa_model.predict(x.head()))\n",
        "print(\"\\nActual target values for those homes:\", y.head().tolist())\n",
        "\n",
        "# Split into validation and training data\n",
        "train_x, val_x, train_y, val_y = train_test_split(x, y, random_state = 1)\n",
        "\n",
        "#specify model\n",
        "iowa_model = DecisionTreeRegressor(random_state=1)\n",
        "#fit model\n",
        "iowa_model.fit(train_x, train_y)\n",
        "\n",
        "val_predictions = iowa_model.predict(val_x)\n",
        "print(\"\\nprices on validation data:\", mean_absolute_error(val_y, val_predictions),\"\\n\")\n",
        "\n",
        "def get_mae(max_leaf_nodes, train_x, val_x, train_y, val_y):\n",
        "  model = DecisionTreeRegressor(max_leaf_nodes=max_leaf_nodes, random_state=0)\n",
        "  model.fit(train_x, train_y)\n",
        "  preds_val = model.predict(val_x)\n",
        "  mae = mean_absolute_error(val_y, preds_val)\n",
        "  return(mae)\n",
        "\n",
        "candidate_max_leaf_nodes = [5, 25, 50, 100, 250, 500]\n",
        "scores = {leaf_size: get_mae(leaf_size, train_x, val_x, train_y, val_y) for leaf_size in candidate_max_leaf_nodes}\n",
        "best_tree_size = min(scores, key=scores.get)\n",
        "\n",
        "\n"
      ],
      "execution_count": 13,
      "outputs": [
        {
          "output_type": "stream",
          "name": "stdout",
          "text": [
            "   LotArea  YearBuilt  1stFlrSF  2ndFlrSF  FullBath  BedroomAbvGr  TotRmsAbvGrd\n",
            "0     8450       2003       856       854         2             3             8\n",
            "1     9600       1976      1262         0         2             3             6\n",
            "2    11250       2001       920       866         2             3             6\n",
            "3     9550       1915       961       756         1             3             7\n",
            "4    14260       2000      1145      1053         2             4             9\n",
            "\n",
            "First in-sample predictions: [208500. 181500. 223500. 140000. 250000.]\n",
            "\n",
            "Actual target values for those homes: [208500, 181500, 223500, 140000, 250000]\n",
            "\n",
            "prices on validation data: 29652.931506849316 \n",
            "\n"
          ]
        }
      ]
    },
    {
      "cell_type": "code",
      "metadata": {
        "colab": {
          "base_uri": "https://localhost:8080/"
        },
        "id": "28Q2hT2ufvIu",
        "outputId": "b528a05e-de5b-4907-876e-7547393eac3d"
      },
      "source": [
        "#Fit Model Using All Data\n",
        "final_model = DecisionTreeRegressor(max_leaf_nodes=best_tree_size, random_state=1)\n",
        "final_model.fit(x, y)"
      ],
      "execution_count": 9,
      "outputs": [
        {
          "output_type": "execute_result",
          "data": {
            "text/plain": [
              "DecisionTreeRegressor(max_leaf_nodes=100, random_state=1)"
            ]
          },
          "metadata": {},
          "execution_count": 9
        }
      ]
    },
    {
      "cell_type": "code",
      "metadata": {
        "colab": {
          "base_uri": "https://localhost:8080/"
        },
        "id": "NvSbyNV-o2-2",
        "outputId": "e458f833-9944-4311-8206-b81888fe6fd2"
      },
      "source": [
        "#Random Forests\n",
        "# Define the model. Set random_state to 1\n",
        "rf_model = RandomForestRegressor(random_state=1)\n",
        "\n",
        "# fit your model\n",
        "rf_model.fit(train_x, train_y)\n",
        "\n",
        "# Calculate the mean absolute error of your Random Forest model on the validation data\n",
        "rf_val_mae = rf_model.predict(val_x)\n",
        "melb_preds = rf_model.predict(val_x)\n",
        "\n",
        "print(\"Validation MAE for Random Forest Model: {}\".format(rf_val_mae))"
      ],
      "execution_count": 11,
      "outputs": [
        {
          "output_type": "stream",
          "name": "stdout",
          "text": [
            "Validation MAE for Random Forest Model: [187439.65       149083.25       129767.58        85257.\n",
            " 149803.09       272586.79       326443.03       146521.5\n",
            " 220213.25       230411.5        173464.5        102247.36\n",
            " 204792.21       245101.54       255794.73       113153.5\n",
            " 113356.         146016.24       191653.77       142532.6\n",
            " 148765.5        194716.4        221809.         315077.49\n",
            " 105664.         169499.5        126757.58       191800.86\n",
            " 500298.02       128329.04       146786.36       100409.66666667\n",
            " 121062.5        107875.         132895.83       345668.25\n",
            " 114746.5        109237.71       289211.26       109256.5\n",
            " 145510.75       132667.5        105491.         115135.75\n",
            " 182216.         172469.          89118.5        196786.79\n",
            " 243525.29       221627.1        126305.5        393993.55\n",
            " 105281.         238323.83       191915.79       111486.5\n",
            " 128926.         174488.         124880.25       170135.03\n",
            " 166700.         317512.85       119112.         126428.\n",
            " 165634.         125155.5        133505.98       225090.7\n",
            " 156372.6        151839.64       224998.28       133699.7\n",
            " 318265.06       153992.84       130803.71       224836.3\n",
            " 169317.         112045.5        353945.28       195846.8\n",
            " 202634.59       134473.18       130205.1        153517.5\n",
            " 179145.         144430.36       153471.         164623.62\n",
            " 191630.7        171457.5        243688.66       156994.5\n",
            " 124509.5        146029.24       123507.71       110219.4\n",
            " 121706.08       138924.         135340.         144079.59\n",
            " 187627.18       127850.73333333 125000.03       117870.\n",
            " 109503.08       149267.44       192014.39       138555.74\n",
            " 153952.19       309964.42       115983.5        173658.93\n",
            " 144523.5        195289.59       229389.48       179807.77\n",
            " 240166.32       122655.5        173794.82       198784.02\n",
            " 155173.         253093.86       335603.22       139632.\n",
            " 227306.54       158736.37       316049.76       122802.\n",
            " 187598.44       214576.63       269662.07       124458.5\n",
            " 127715.25       107544.         100862.5        203085.\n",
            " 557822.1        297632.64       235094.         113951.16\n",
            " 150495.         290039.5        139388.5        199542.1\n",
            " 135379.46       227540.94       112555.         222135.3\n",
            " 218986.29       127137.24       180233.25       180880.6\n",
            " 126278.         180738.         173939.         338562.16\n",
            "  86860.         144701.24       103908.75       139674.1\n",
            " 104470.5        106159.84       152506.06       144896.2\n",
            " 141606.6        144332.         176287.         161693.34\n",
            " 148811.         124563.         243979.1        185385.24\n",
            " 235895.38       296466.53       189403.25       139364.\n",
            " 182035.5        210152.71       132663.96       148358.5\n",
            " 125608.08       170714.76       184350.18       126784.82\n",
            " 275975.44       175424.14       395770.23       286930.03\n",
            " 154651.11       118034.5        114312.         151984.42\n",
            "  91189.33333333 150178.08333333 126310.72       307206.53\n",
            " 257118.87       142856.5        148190.25        71703.5\n",
            " 187530.3        232009.63       166689.5        186362.\n",
            " 275872.74       109350.04       189618.19       325292.59\n",
            " 266024.58       244653.4        185677.2        110017.34\n",
            " 167486.73       134781.         273058.82       255291.95\n",
            " 122149.5         96260.         188690.5         86519.72\n",
            " 609470.96       120787.         170355.5        170172.7\n",
            " 106426.         115271.8        199903.41       183842.26\n",
            " 168989.63571429 173434.         124343.5        185548.\n",
            " 112474.5        127609.42       270973.06       133745.06\n",
            " 293087.67       116358.48       146489.32       293240.26\n",
            " 261006.63       148282.1        148333.         163170.32\n",
            " 138944.5        131167.         146302.5        165071.5\n",
            " 164632.09       160321.27       119811.58       115455.2\n",
            " 181051.54       157211.         151620.         113760.\n",
            " 178026.          81468.33       335180.88       131141.\n",
            " 193692.03       220201.         213366.97       184467.9\n",
            " 124498.04       182581.5        155761.75       135034.5\n",
            " 144176.          98432.         172969.5        178899.77\n",
            " 110214.54       132350.         175524.         132746.46\n",
            " 118704.38       136847.         199567.9        135113.\n",
            " 139779.54       135251.         132969.21       151249.\n",
            " 236750.33       234125.7        129019.18       112218.08\n",
            " 268633.17       113800.25       112169.5        270273.33\n",
            " 142687.         118706.66       193989.62       200493.\n",
            " 180013.35       241505.51       152234.         114292.25\n",
            " 151095.5        144472.5        134803.         178551.\n",
            " 143555.01333333 272760.         137916.         184546.5\n",
            " 165375.56       192219.87       154823.         168881.03\n",
            "  95577.         248745.84       147720.84       101184.5\n",
            " 259193.2        185586.         180433.89       174291.18\n",
            " 185896.95       183600.         125930.21       243360.18\n",
            " 134696.25       363444.75       163915.01       224671.21\n",
            " 152015.43       131714.34       136313.         215748.2\n",
            " 252742.84       272112.19       185320.         160618.64\n",
            " 139991.2        140396.5        277316.9        181259.39\n",
            " 247413.5        196697.          88518.5        236797.62\n",
            " 115513.25       159140.96       139489.         151250.72\n",
            " 263169.49       101315.         190183.33       147561.\n",
            " 369019.05       128854.5        146443.1        149975.64\n",
            " 200523.56       153335.         117320.5        299389.65\n",
            " 172783.65333333 180620.89       132581.04       287663.41\n",
            " 207253.16      ]\n"
          ]
        }
      ]
    }
  ]
}