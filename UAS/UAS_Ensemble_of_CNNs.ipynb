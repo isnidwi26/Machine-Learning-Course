{
  "nbformat": 4,
  "nbformat_minor": 0,
  "metadata": {
    "colab": {
      "name": "UAS_Ensemble of CNNs.ipynb",
      "provenance": [],
      "authorship_tag": "ABX9TyOKYDbN57rC2v3iKxX1EBMP",
      "include_colab_link": true
    },
    "kernelspec": {
      "name": "python3",
      "display_name": "Python 3"
    },
    "language_info": {
      "name": "python"
    }
  },
  "cells": [
    {
      "cell_type": "markdown",
      "metadata": {
        "id": "view-in-github",
        "colab_type": "text"
      },
      "source": [
        "<a href=\"https://colab.research.google.com/github/isnidwi26/Machine-Learning-Course/blob/main/UAS/UAS_Ensemble_of_CNNs.ipynb\" target=\"_parent\"><img src=\"https://colab.research.google.com/assets/colab-badge.svg\" alt=\"Open In Colab\"/></a>"
      ]
    },
    {
      "cell_type": "code",
      "execution_count": 37,
      "metadata": {
        "colab": {
          "base_uri": "https://localhost:8080/"
        },
        "id": "-W9UlWw68gjI",
        "outputId": "384a27fb-1ac7-47ec-9d4f-465b99c45144"
      },
      "outputs": [
        {
          "output_type": "stream",
          "name": "stdout",
          "text": [
            "Drive already mounted at /content/drive; to attempt to forcibly remount, call drive.mount(\"/content/drive\", force_remount=True).\n"
          ]
        }
      ],
      "source": [
        "from google.colab import drive\n",
        "drive.mount('/content/drive')"
      ]
    },
    {
      "cell_type": "code",
      "source": [
        "#import library torch, torchvision, nn, nn functional, optimasi dan visualisasi data\n",
        "import torch\n",
        "import torchvision \n",
        "import torch.nn as nn \n",
        "import torch.nn.functional as F \n",
        "import torch.optim as optim \n",
        "import matplotlib.pyplot as plt "
      ],
      "metadata": {
        "id": "xJaVTpvA-3s0"
      },
      "execution_count": 38,
      "outputs": []
    },
    {
      "cell_type": "code",
      "source": [
        "n = 4 # inisialisasi variabel n=7 sebagai iterasi\n",
        "n_train = 70 # inisialisasi variabel n_train\n",
        "n_test = 100 # inisialisasi variabel n_test\n",
        "rate = 0.01 # inisialisasi variabel rate\n",
        "momentum = 0.5 # inisialisasi variabel momentum\n",
        "log_interval = 10 # digunakan untuk menilai batas waktu log_interval\n",
        "random = 1 # inisialisasi variabel random untuk nilai acak\n",
        "torch.backends.cudnn.enabled = False \n",
        "torch.manual_seed(random) # menjalankan fungsi acak"
      ],
      "metadata": {
        "colab": {
          "base_uri": "https://localhost:8080/"
        },
        "id": "EKUVjB69_BD8",
        "outputId": "13bf302e-504b-4cae-d92a-2274e5544cd4"
      },
      "execution_count": 39,
      "outputs": [
        {
          "output_type": "execute_result",
          "data": {
            "text/plain": [
              "<torch._C.Generator at 0x7f34c0ee56d0>"
            ]
          },
          "metadata": {},
          "execution_count": 39
        }
      ]
    },
    {
      "cell_type": "code",
      "source": [
        "#membaca data dari dataset MNIST, melakukan augmentasi data, melakukan visualisasi tensor, melakukan data acak untuk training loader\n",
        "train_loader = torch.utils.data.DataLoader(torchvision.datasets.MNIST('/files/', \n",
        "                                                                      train=True, \n",
        "                                                                      download=True,\n",
        "                                                                      transform=torchvision.transforms.Compose([torchvision.transforms.ToTensor(),\n",
        "                                                                                                                torchvision.transforms.Normalize((0.1307,), (0.3081,))])),\n",
        "                                           batch_size=n_train, shuffle=True)\n",
        "\n"
      ],
      "metadata": {
        "id": "8pTSozSh_a74"
      },
      "execution_count": 40,
      "outputs": []
    },
    {
      "cell_type": "code",
      "source": [
        "#membaca data dari dataset MNIST, melakukan augmentasi data, melakukan visualisasi tensor, dan melakukan data acak untuk test loader\n",
        "test_loader = torch.utils.data.DataLoader( torchvision.datasets.MNIST('/files/', \n",
        "                                                                      train=False, \n",
        "                                                                      download=True,\n",
        "                                                                      transform=torchvision.transforms.Compose([torchvision.transforms.ToTensor(), \n",
        "                                                                                                                torchvision.transforms.Normalize( (0.1307,), (0.3081,))])),\n",
        "                                          batch_size=n_test, shuffle=True)"
      ],
      "metadata": {
        "id": "17rHzV-vFLqv"
      },
      "execution_count": 41,
      "outputs": []
    },
    {
      "cell_type": "code",
      "source": [
        "#menampilkan jumlah data yang sedang diproses\n",
        "examples = enumerate(test_loader)\n",
        "batch_idx, (example_data, example_targets) = next(examples)\n",
        "example_data.shape "
      ],
      "metadata": {
        "id": "392vNYuuE-7O",
        "colab": {
          "base_uri": "https://localhost:8080/"
        },
        "outputId": "9f189364-8bad-4249-dd45-4f6da2945dcf"
      },
      "execution_count": 42,
      "outputs": [
        {
          "output_type": "execute_result",
          "data": {
            "text/plain": [
              "torch.Size([100, 1, 28, 28])"
            ]
          },
          "metadata": {},
          "execution_count": 42
        }
      ]
    },
    {
      "cell_type": "code",
      "source": [
        "# menampilkan nilai gambar yang di proses\n",
        "fig = plt.figure()\n",
        "for i in range(6):\n",
        "  plt.subplot(2,3,i+1)\n",
        "  plt.tight_layout()\n",
        "  plt.imshow(example_data[i][0], cmap='gray', interpolation='none')\n",
        "  plt.title(\"Ground Truth: {}\".format(example_targets[i]))\n",
        "  plt.xticks([])\n",
        "  plt.yticks([])\n",
        "fig"
      ],
      "metadata": {
        "colab": {
          "base_uri": "https://localhost:8080/",
          "height": 550
        },
        "id": "Rfpkumf-EWPK",
        "outputId": "706c1102-aee8-4d94-edaf-f5cbe80f4b37"
      },
      "execution_count": 43,
      "outputs": [
        {
          "output_type": "execute_result",
          "data": {
            "image/png": "[encoded data removed]",
            "text/plain": [
              "<Figure size 432x288 with 6 Axes>"
            ]
          },
          "metadata": {},
          "execution_count": 43
        },
        {
          "output_type": "display_data",
          "data": {
            "image/png": "[encoded data removed]",
            "text/plain": [
              "<Figure size 432x288 with 6 Axes>"
            ]
          },
          "metadata": {}
        }
      ]
    },
    {
      "cell_type": "code",
      "source": [
        "#membuat kelas nn modul\n",
        "class Net(nn.Module):\n",
        "  #deklarasi dan inisialisasi variabel\n",
        "    def __init__(self):\n",
        "        super(Net, self).__init__()\n",
        "        self.conv1 = nn.Conv2d(1, 10, kernel_size=5) \n",
        "        self.conv2 = nn.Conv2d(10, 20, kernel_size=5)\n",
        "        self.conv2_drop = nn.Dropout2d() \n",
        "        self.fc1 = nn.Linear(320, 50) \n",
        "        self.fc2 = nn.Linear(50, 10) \n",
        "  #melakukan proses relu, pooling, dan dropout\n",
        "    def forward(self, x): \n",
        "        x = F.relu(F.max_pool2d(self.conv1(x), 2)) \n",
        "        x = F.relu(F.max_pool2d(self.conv2_drop(self.conv2(x)), 2))\n",
        "        x = x.view(-1, 320)\n",
        "        x = F.relu(self.fc1(x))\n",
        "        x = F.dropout(x, training=self.training)\n",
        "        x = self.fc2(x)\n",
        "        return F.log_softmax(x) #feedback"
      ],
      "metadata": {
        "id": "UQ37L902Fcaz"
      },
      "execution_count": 44,
      "outputs": []
    },
    {
      "cell_type": "code",
      "source": [
        "#memanggil class Net\n",
        "network = Net() \n",
        "#pemanggilan algoritma optimasi\n",
        "optimizer = optim.SGD(network.parameters(), lr=rate, momentum=momentum)"
      ],
      "metadata": {
        "id": "4sBlrOHrL7Rp"
      },
      "execution_count": 45,
      "outputs": []
    },
    {
      "cell_type": "code",
      "source": [
        "#membuat list kosong pada trin_losses, train_counter, test_losses, dan menambahkan nilai pada variabel test_counter\n",
        "train_losses = [] \n",
        "train_counter = [] \n",
        "test_losses = [] \n",
        "test_counter = [i*len(train_loader.dataset) for i in range(n + 1)]"
      ],
      "metadata": {
        "id": "Gyq5f1ADMA-R"
      },
      "execution_count": 46,
      "outputs": []
    },
    {
      "cell_type": "code",
      "source": [
        "#membuat fungsi untuk melakukan proses training\n",
        "def train(epoch): \n",
        "  network.train()\n",
        "  for batch_idx, (data, target) in enumerate(train_loader):\n",
        "    optimizer.zero_grad()\n",
        "    output = network(data)\n",
        "    loss = F.nll_loss(output, target)\n",
        "    loss.backward()\n",
        "    optimizer.step()\n",
        "    if batch_idx % log_interval == 0:\n",
        "      print('Train Epoch: {} [{}/{} ({:.0f}%)]\\tLoss: {:.6f}'.format(\n",
        "        epoch, batch_idx * len(data), len(train_loader.dataset),\n",
        "        100. * batch_idx / len(train_loader), loss.item()))\n",
        "      train_losses.append(loss.item())\n",
        "      train_counter.append(\n",
        "        (batch_idx*64) + ((epoch-1)*len(train_loader.dataset)))"
      ],
      "metadata": {
        "id": "TcEqRsIhMHjD"
      },
      "execution_count": 47,
      "outputs": []
    },
    {
      "cell_type": "code",
      "source": [
        "#membuat fungsi untuk melakukan proses testing\n",
        "def test(): \n",
        "  network.eval()\n",
        "  test_loss = 0\n",
        "  correct = 0\n",
        "  with torch.no_grad():\n",
        "    for data, target in test_loader:\n",
        "      output = network(data)\n",
        "      test_loss += F.nll_loss(output, target, size_average=False).item()\n",
        "      pred = output.data.max(1, keepdim=True)[1]\n",
        "      correct += pred.eq(target.data.view_as(pred)).sum()\n",
        "  test_loss /= len(test_loader.dataset)\n",
        "  test_losses.append(test_loss)\n",
        "  print('\\nTest set: Avg. loss: {:.4f}, Accuracy: {}/{} ({:.0f}%)\\n'.format(\n",
        "    test_loss, correct, len(test_loader.dataset),\n",
        "    100. * correct / len(test_loader.dataset)))"
      ],
      "metadata": {
        "id": "-9PScghUMI2i"
      },
      "execution_count": 48,
      "outputs": []
    },
    {
      "cell_type": "code",
      "source": [
        "#menampilkan hasil training\n",
        "test()\n",
        "for epoch in range(1, n + 1):\n",
        "  train(epoch)\n",
        "  test()"
      ],
      "metadata": {
        "colab": {
          "base_uri": "https://localhost:8080/"
        },
        "id": "emXoFJ1VMTQ0",
        "outputId": "bc4d40f0-59ad-46d3-e393-d1855282ae8b"
      },
      "execution_count": 49,
      "outputs": [
        {
          "output_type": "stream",
          "name": "stderr",
          "text": [
            "/usr/local/lib/python3.7/dist-packages/ipykernel_launcher.py:19: UserWarning: Implicit dimension choice for log_softmax has been deprecated. Change the call to include dim=X as an argument.\n",
            "/usr/local/lib/python3.7/dist-packages/torch/nn/_reduction.py:42: UserWarning: size_average and reduce args will be deprecated, please use reduction='sum' instead.\n",
            "  warnings.warn(warning.format(ret))\n"
          ]
        },
        {
          "output_type": "stream",
          "name": "stdout",
          "text": [
            "\n",
            "Test set: Avg. loss: 2.3096, Accuracy: 924/10000 (9%)\n",
            "\n",
            "Train Epoch: 1 [0/60000 (0%)]\tLoss: 2.302532\n",
            "Train Epoch: 1 [700/60000 (1%)]\tLoss: 2.281216\n",
            "Train Epoch: 1 [1400/60000 (2%)]\tLoss: 2.329659\n",
            "Train Epoch: 1 [2100/60000 (3%)]\tLoss: 2.289010\n",
            "Train Epoch: 1 [2800/60000 (5%)]\tLoss: 2.266396\n",
            "Train Epoch: 1 [3500/60000 (6%)]\tLoss: 2.214166\n",
            "Train Epoch: 1 [4200/60000 (7%)]\tLoss: 2.221586\n",
            "Train Epoch: 1 [4900/60000 (8%)]\tLoss: 2.169383\n",
            "Train Epoch: 1 [5600/60000 (9%)]\tLoss: 2.139859\n",
            "Train Epoch: 1 [6300/60000 (10%)]\tLoss: 2.027886\n",
            "Train Epoch: 1 [7000/60000 (12%)]\tLoss: 1.980233\n",
            "Train Epoch: 1 [7700/60000 (13%)]\tLoss: 1.645896\n",
            "Train Epoch: 1 [8400/60000 (14%)]\tLoss: 1.718428\n",
            "Train Epoch: 1 [9100/60000 (15%)]\tLoss: 1.527201\n",
            "Train Epoch: 1 [9800/60000 (16%)]\tLoss: 1.557458\n",
            "Train Epoch: 1 [10500/60000 (17%)]\tLoss: 1.452929\n",
            "Train Epoch: 1 [11200/60000 (19%)]\tLoss: 1.212002\n",
            "Train Epoch: 1 [11900/60000 (20%)]\tLoss: 1.134971\n",
            "Train Epoch: 1 [12600/60000 (21%)]\tLoss: 1.033615\n",
            "Train Epoch: 1 [13300/60000 (22%)]\tLoss: 0.898951\n",
            "Train Epoch: 1 [14000/60000 (23%)]\tLoss: 1.216916\n",
            "Train Epoch: 1 [14700/60000 (24%)]\tLoss: 1.098886\n",
            "Train Epoch: 1 [15400/60000 (26%)]\tLoss: 1.053227\n",
            "Train Epoch: 1 [16100/60000 (27%)]\tLoss: 1.124827\n",
            "Train Epoch: 1 [16800/60000 (28%)]\tLoss: 1.085891\n",
            "Train Epoch: 1 [17500/60000 (29%)]\tLoss: 1.014288\n",
            "Train Epoch: 1 [18200/60000 (30%)]\tLoss: 0.970686\n",
            "Train Epoch: 1 [18900/60000 (31%)]\tLoss: 1.187813\n",
            "Train Epoch: 1 [19600/60000 (33%)]\tLoss: 0.889614\n",
            "Train Epoch: 1 [20300/60000 (34%)]\tLoss: 1.311800\n",
            "Train Epoch: 1 [21000/60000 (35%)]\tLoss: 0.938343\n",
            "Train Epoch: 1 [21700/60000 (36%)]\tLoss: 0.778567\n",
            "Train Epoch: 1 [22400/60000 (37%)]\tLoss: 1.018820\n",
            "Train Epoch: 1 [23100/60000 (38%)]\tLoss: 0.858138\n",
            "Train Epoch: 1 [23800/60000 (40%)]\tLoss: 0.944723\n",
            "Train Epoch: 1 [24500/60000 (41%)]\tLoss: 0.596303\n",
            "Train Epoch: 1 [25200/60000 (42%)]\tLoss: 0.724967\n",
            "Train Epoch: 1 [25900/60000 (43%)]\tLoss: 0.842367\n",
            "Train Epoch: 1 [26600/60000 (44%)]\tLoss: 0.884365\n",
            "Train Epoch: 1 [27300/60000 (45%)]\tLoss: 0.881553\n",
            "Train Epoch: 1 [28000/60000 (47%)]\tLoss: 0.548026\n",
            "Train Epoch: 1 [28700/60000 (48%)]\tLoss: 0.577242\n",
            "Train Epoch: 1 [29400/60000 (49%)]\tLoss: 0.726688\n",
            "Train Epoch: 1 [30100/60000 (50%)]\tLoss: 0.781051\n",
            "Train Epoch: 1 [30800/60000 (51%)]\tLoss: 0.615448\n",
            "Train Epoch: 1 [31500/60000 (52%)]\tLoss: 0.554801\n",
            "Train Epoch: 1 [32200/60000 (54%)]\tLoss: 0.832541\n",
            "Train Epoch: 1 [32900/60000 (55%)]\tLoss: 0.538203\n",
            "Train Epoch: 1 [33600/60000 (56%)]\tLoss: 0.718140\n",
            "Train Epoch: 1 [34300/60000 (57%)]\tLoss: 0.679919\n",
            "Train Epoch: 1 [35000/60000 (58%)]\tLoss: 0.546570\n",
            "Train Epoch: 1 [35700/60000 (59%)]\tLoss: 0.650888\n",
            "Train Epoch: 1 [36400/60000 (61%)]\tLoss: 0.334789\n",
            "Train Epoch: 1 [37100/60000 (62%)]\tLoss: 0.780807\n",
            "Train Epoch: 1 [37800/60000 (63%)]\tLoss: 0.672933\n",
            "Train Epoch: 1 [38500/60000 (64%)]\tLoss: 0.636585\n",
            "Train Epoch: 1 [39200/60000 (65%)]\tLoss: 0.540526\n",
            "Train Epoch: 1 [39900/60000 (66%)]\tLoss: 0.763666\n",
            "Train Epoch: 1 [40600/60000 (68%)]\tLoss: 0.689450\n",
            "Train Epoch: 1 [41300/60000 (69%)]\tLoss: 0.600206\n",
            "Train Epoch: 1 [42000/60000 (70%)]\tLoss: 0.516724\n",
            "Train Epoch: 1 [42700/60000 (71%)]\tLoss: 0.691349\n",
            "Train Epoch: 1 [43400/60000 (72%)]\tLoss: 0.399089\n",
            "Train Epoch: 1 [44100/60000 (73%)]\tLoss: 0.612059\n",
            "Train Epoch: 1 [44800/60000 (75%)]\tLoss: 0.661995\n",
            "Train Epoch: 1 [45500/60000 (76%)]\tLoss: 0.532740\n",
            "Train Epoch: 1 [46200/60000 (77%)]\tLoss: 0.496222\n",
            "Train Epoch: 1 [46900/60000 (78%)]\tLoss: 0.757527\n",
            "Train Epoch: 1 [47600/60000 (79%)]\tLoss: 0.510535\n",
            "Train Epoch: 1 [48300/60000 (80%)]\tLoss: 0.625345\n",
            "Train Epoch: 1 [49000/60000 (82%)]\tLoss: 0.463465\n",
            "Train Epoch: 1 [49700/60000 (83%)]\tLoss: 0.559172\n",
            "Train Epoch: 1 [50400/60000 (84%)]\tLoss: 0.549549\n",
            "Train Epoch: 1 [51100/60000 (85%)]\tLoss: 0.566999\n",
            "Train Epoch: 1 [51800/60000 (86%)]\tLoss: 0.545302\n",
            "Train Epoch: 1 [52500/60000 (87%)]\tLoss: 0.518875\n",
            "Train Epoch: 1 [53200/60000 (89%)]\tLoss: 0.633694\n",
            "Train Epoch: 1 [53900/60000 (90%)]\tLoss: 0.536556\n",
            "Train Epoch: 1 [54600/60000 (91%)]\tLoss: 0.407133\n",
            "Train Epoch: 1 [55300/60000 (92%)]\tLoss: 0.543001\n",
            "Train Epoch: 1 [56000/60000 (93%)]\tLoss: 0.511812\n",
            "Train Epoch: 1 [56700/60000 (94%)]\tLoss: 0.395680\n",
            "Train Epoch: 1 [57400/60000 (96%)]\tLoss: 0.257786\n",
            "Train Epoch: 1 [58100/60000 (97%)]\tLoss: 0.327501\n",
            "Train Epoch: 1 [58800/60000 (98%)]\tLoss: 0.419165\n",
            "Train Epoch: 1 [59500/60000 (99%)]\tLoss: 0.341623\n",
            "\n",
            "Test set: Avg. loss: 0.1963, Accuracy: 9428/10000 (94%)\n",
            "\n",
            "Train Epoch: 2 [0/60000 (0%)]\tLoss: 0.504269\n",
            "Train Epoch: 2 [700/60000 (1%)]\tLoss: 0.610000\n",
            "Train Epoch: 2 [1400/60000 (2%)]\tLoss: 0.475411\n",
            "Train Epoch: 2 [2100/60000 (3%)]\tLoss: 0.483511\n",
            "Train Epoch: 2 [2800/60000 (5%)]\tLoss: 0.429609\n",
            "Train Epoch: 2 [3500/60000 (6%)]\tLoss: 0.541772\n",
            "Train Epoch: 2 [4200/60000 (7%)]\tLoss: 0.604612\n",
            "Train Epoch: 2 [4900/60000 (8%)]\tLoss: 0.456551\n",
            "Train Epoch: 2 [5600/60000 (9%)]\tLoss: 0.445661\n",
            "Train Epoch: 2 [6300/60000 (10%)]\tLoss: 0.382695\n",
            "Train Epoch: 2 [7000/60000 (12%)]\tLoss: 0.285307\n",
            "Train Epoch: 2 [7700/60000 (13%)]\tLoss: 0.636247\n",
            "Train Epoch: 2 [8400/60000 (14%)]\tLoss: 0.417015\n",
            "Train Epoch: 2 [9100/60000 (15%)]\tLoss: 0.436879\n",
            "Train Epoch: 2 [9800/60000 (16%)]\tLoss: 0.413828\n",
            "Train Epoch: 2 [10500/60000 (17%)]\tLoss: 0.536319\n",
            "Train Epoch: 2 [11200/60000 (19%)]\tLoss: 0.724426\n",
            "Train Epoch: 2 [11900/60000 (20%)]\tLoss: 0.270126\n",
            "Train Epoch: 2 [12600/60000 (21%)]\tLoss: 0.539807\n",
            "Train Epoch: 2 [13300/60000 (22%)]\tLoss: 0.488541\n",
            "Train Epoch: 2 [14000/60000 (23%)]\tLoss: 0.353048\n",
            "Train Epoch: 2 [14700/60000 (24%)]\tLoss: 0.478351\n",
            "Train Epoch: 2 [15400/60000 (26%)]\tLoss: 0.302513\n",
            "Train Epoch: 2 [16100/60000 (27%)]\tLoss: 0.440229\n",
            "Train Epoch: 2 [16800/60000 (28%)]\tLoss: 0.678729\n",
            "Train Epoch: 2 [17500/60000 (29%)]\tLoss: 0.213611\n",
            "Train Epoch: 2 [18200/60000 (30%)]\tLoss: 0.202154\n",
            "Train Epoch: 2 [18900/60000 (31%)]\tLoss: 0.536591\n",
            "Train Epoch: 2 [19600/60000 (33%)]\tLoss: 0.389014\n",
            "Train Epoch: 2 [20300/60000 (34%)]\tLoss: 0.585073\n",
            "Train Epoch: 2 [21000/60000 (35%)]\tLoss: 0.371225\n",
            "Train Epoch: 2 [21700/60000 (36%)]\tLoss: 0.410387\n",
            "Train Epoch: 2 [22400/60000 (37%)]\tLoss: 0.350089\n",
            "Train Epoch: 2 [23100/60000 (38%)]\tLoss: 0.286008\n",
            "Train Epoch: 2 [23800/60000 (40%)]\tLoss: 0.275788\n",
            "Train Epoch: 2 [24500/60000 (41%)]\tLoss: 0.672604\n",
            "Train Epoch: 2 [25200/60000 (42%)]\tLoss: 0.565081\n",
            "Train Epoch: 2 [25900/60000 (43%)]\tLoss: 0.446341\n",
            "Train Epoch: 2 [26600/60000 (44%)]\tLoss: 0.466534\n",
            "Train Epoch: 2 [27300/60000 (45%)]\tLoss: 0.439780\n",
            "Train Epoch: 2 [28000/60000 (47%)]\tLoss: 0.606547\n",
            "Train Epoch: 2 [28700/60000 (48%)]\tLoss: 0.593371\n",
            "Train Epoch: 2 [29400/60000 (49%)]\tLoss: 0.481486\n",
            "Train Epoch: 2 [30100/60000 (50%)]\tLoss: 0.314729\n",
            "Train Epoch: 2 [30800/60000 (51%)]\tLoss: 0.299597\n",
            "Train Epoch: 2 [31500/60000 (52%)]\tLoss: 0.309914\n",
            "Train Epoch: 2 [32200/60000 (54%)]\tLoss: 0.396447\n",
            "Train Epoch: 2 [32900/60000 (55%)]\tLoss: 0.227170\n",
            "Train Epoch: 2 [33600/60000 (56%)]\tLoss: 0.495718\n",
            "Train Epoch: 2 [34300/60000 (57%)]\tLoss: 0.417426\n",
            "Train Epoch: 2 [35000/60000 (58%)]\tLoss: 0.208684\n",
            "Train Epoch: 2 [35700/60000 (59%)]\tLoss: 0.512183\n",
            "Train Epoch: 2 [36400/60000 (61%)]\tLoss: 0.433433\n",
            "Train Epoch: 2 [37100/60000 (62%)]\tLoss: 0.498238\n",
            "Train Epoch: 2 [37800/60000 (63%)]\tLoss: 0.564864\n",
            "Train Epoch: 2 [38500/60000 (64%)]\tLoss: 0.217136\n",
            "Train Epoch: 2 [39200/60000 (65%)]\tLoss: 0.336035\n",
            "Train Epoch: 2 [39900/60000 (66%)]\tLoss: 0.309770\n",
            "Train Epoch: 2 [40600/60000 (68%)]\tLoss: 0.488559\n",
            "Train Epoch: 2 [41300/60000 (69%)]\tLoss: 0.303537\n",
            "Train Epoch: 2 [42000/60000 (70%)]\tLoss: 0.243477\n",
            "Train Epoch: 2 [42700/60000 (71%)]\tLoss: 0.262761\n",
            "Train Epoch: 2 [43400/60000 (72%)]\tLoss: 0.625997\n",
            "Train Epoch: 2 [44100/60000 (73%)]\tLoss: 0.275543\n",
            "Train Epoch: 2 [44800/60000 (75%)]\tLoss: 0.280986\n",
            "Train Epoch: 2 [45500/60000 (76%)]\tLoss: 0.314014\n",
            "Train Epoch: 2 [46200/60000 (77%)]\tLoss: 0.260468\n",
            "Train Epoch: 2 [46900/60000 (78%)]\tLoss: 0.353501\n",
            "Train Epoch: 2 [47600/60000 (79%)]\tLoss: 0.454122\n",
            "Train Epoch: 2 [48300/60000 (80%)]\tLoss: 0.357379\n",
            "Train Epoch: 2 [49000/60000 (82%)]\tLoss: 0.464228\n",
            "Train Epoch: 2 [49700/60000 (83%)]\tLoss: 0.466159\n",
            "Train Epoch: 2 [50400/60000 (84%)]\tLoss: 0.216091\n",
            "Train Epoch: 2 [51100/60000 (85%)]\tLoss: 0.216105\n",
            "Train Epoch: 2 [51800/60000 (86%)]\tLoss: 0.356880\n",
            "Train Epoch: 2 [52500/60000 (87%)]\tLoss: 0.369508\n",
            "Train Epoch: 2 [53200/60000 (89%)]\tLoss: 0.283747\n",
            "Train Epoch: 2 [53900/60000 (90%)]\tLoss: 0.197643\n",
            "Train Epoch: 2 [54600/60000 (91%)]\tLoss: 0.268011\n",
            "Train Epoch: 2 [55300/60000 (92%)]\tLoss: 0.222437\n",
            "Train Epoch: 2 [56000/60000 (93%)]\tLoss: 0.204287\n",
            "Train Epoch: 2 [56700/60000 (94%)]\tLoss: 0.297102\n",
            "Train Epoch: 2 [57400/60000 (96%)]\tLoss: 0.434278\n",
            "Train Epoch: 2 [58100/60000 (97%)]\tLoss: 0.289364\n",
            "Train Epoch: 2 [58800/60000 (98%)]\tLoss: 0.361782\n",
            "Train Epoch: 2 [59500/60000 (99%)]\tLoss: 0.540139\n",
            "\n",
            "Test set: Avg. loss: 0.1250, Accuracy: 9628/10000 (96%)\n",
            "\n",
            "Train Epoch: 3 [0/60000 (0%)]\tLoss: 0.283232\n",
            "Train Epoch: 3 [700/60000 (1%)]\tLoss: 0.186547\n",
            "Train Epoch: 3 [1400/60000 (2%)]\tLoss: 0.132217\n",
            "Train Epoch: 3 [2100/60000 (3%)]\tLoss: 0.235662\n",
            "Train Epoch: 3 [2800/60000 (5%)]\tLoss: 0.347793\n",
            "Train Epoch: 3 [3500/60000 (6%)]\tLoss: 0.321437\n",
            "Train Epoch: 3 [4200/60000 (7%)]\tLoss: 0.382854\n",
            "Train Epoch: 3 [4900/60000 (8%)]\tLoss: 0.274282\n",
            "Train Epoch: 3 [5600/60000 (9%)]\tLoss: 0.276830\n",
            "Train Epoch: 3 [6300/60000 (10%)]\tLoss: 0.197372\n",
            "Train Epoch: 3 [7000/60000 (12%)]\tLoss: 0.311973\n",
            "Train Epoch: 3 [7700/60000 (13%)]\tLoss: 0.441089\n",
            "Train Epoch: 3 [8400/60000 (14%)]\tLoss: 0.344416\n",
            "Train Epoch: 3 [9100/60000 (15%)]\tLoss: 0.218202\n",
            "Train Epoch: 3 [9800/60000 (16%)]\tLoss: 0.268298\n",
            "Train Epoch: 3 [10500/60000 (17%)]\tLoss: 0.243048\n",
            "Train Epoch: 3 [11200/60000 (19%)]\tLoss: 0.271777\n",
            "Train Epoch: 3 [11900/60000 (20%)]\tLoss: 0.387275\n",
            "Train Epoch: 3 [12600/60000 (21%)]\tLoss: 0.178111\n",
            "Train Epoch: 3 [13300/60000 (22%)]\tLoss: 0.352882\n",
            "Train Epoch: 3 [14000/60000 (23%)]\tLoss: 0.338214\n",
            "Train Epoch: 3 [14700/60000 (24%)]\tLoss: 0.267821\n",
            "Train Epoch: 3 [15400/60000 (26%)]\tLoss: 0.189368\n",
            "Train Epoch: 3 [16100/60000 (27%)]\tLoss: 0.267628\n",
            "Train Epoch: 3 [16800/60000 (28%)]\tLoss: 0.495137\n",
            "Train Epoch: 3 [17500/60000 (29%)]\tLoss: 0.295531\n",
            "Train Epoch: 3 [18200/60000 (30%)]\tLoss: 0.328967\n",
            "Train Epoch: 3 [18900/60000 (31%)]\tLoss: 0.327917\n",
            "Train Epoch: 3 [19600/60000 (33%)]\tLoss: 0.482566\n",
            "Train Epoch: 3 [20300/60000 (34%)]\tLoss: 0.458346\n",
            "Train Epoch: 3 [21000/60000 (35%)]\tLoss: 0.166949\n",
            "Train Epoch: 3 [21700/60000 (36%)]\tLoss: 0.300856\n",
            "Train Epoch: 3 [22400/60000 (37%)]\tLoss: 0.352170\n",
            "Train Epoch: 3 [23100/60000 (38%)]\tLoss: 0.539007\n",
            "Train Epoch: 3 [23800/60000 (40%)]\tLoss: 0.480089\n",
            "Train Epoch: 3 [24500/60000 (41%)]\tLoss: 0.204307\n",
            "Train Epoch: 3 [25200/60000 (42%)]\tLoss: 0.500464\n",
            "Train Epoch: 3 [25900/60000 (43%)]\tLoss: 0.341698\n",
            "Train Epoch: 3 [26600/60000 (44%)]\tLoss: 0.316659\n",
            "Train Epoch: 3 [27300/60000 (45%)]\tLoss: 0.282996\n",
            "Train Epoch: 3 [28000/60000 (47%)]\tLoss: 0.323482\n",
            "Train Epoch: 3 [28700/60000 (48%)]\tLoss: 0.406706\n",
            "Train Epoch: 3 [29400/60000 (49%)]\tLoss: 0.252455\n",
            "Train Epoch: 3 [30100/60000 (50%)]\tLoss: 0.319868\n",
            "Train Epoch: 3 [30800/60000 (51%)]\tLoss: 0.414260\n",
            "Train Epoch: 3 [31500/60000 (52%)]\tLoss: 0.388717\n",
            "Train Epoch: 3 [32200/60000 (54%)]\tLoss: 0.470300\n",
            "Train Epoch: 3 [32900/60000 (55%)]\tLoss: 0.304857\n",
            "Train Epoch: 3 [33600/60000 (56%)]\tLoss: 0.267513\n",
            "Train Epoch: 3 [34300/60000 (57%)]\tLoss: 0.328227\n",
            "Train Epoch: 3 [35000/60000 (58%)]\tLoss: 0.184189\n",
            "Train Epoch: 3 [35700/60000 (59%)]\tLoss: 0.261856\n",
            "Train Epoch: 3 [36400/60000 (61%)]\tLoss: 0.327116\n",
            "Train Epoch: 3 [37100/60000 (62%)]\tLoss: 0.420902\n",
            "Train Epoch: 3 [37800/60000 (63%)]\tLoss: 0.566328\n",
            "Train Epoch: 3 [38500/60000 (64%)]\tLoss: 0.407121\n",
            "Train Epoch: 3 [39200/60000 (65%)]\tLoss: 0.495702\n",
            "Train Epoch: 3 [39900/60000 (66%)]\tLoss: 0.281782\n",
            "Train Epoch: 3 [40600/60000 (68%)]\tLoss: 0.321183\n",
            "Train Epoch: 3 [41300/60000 (69%)]\tLoss: 0.218432\n",
            "Train Epoch: 3 [42000/60000 (70%)]\tLoss: 0.192911\n",
            "Train Epoch: 3 [42700/60000 (71%)]\tLoss: 0.483486\n",
            "Train Epoch: 3 [43400/60000 (72%)]\tLoss: 0.518920\n",
            "Train Epoch: 3 [44100/60000 (73%)]\tLoss: 0.198463\n",
            "Train Epoch: 3 [44800/60000 (75%)]\tLoss: 0.408962\n",
            "Train Epoch: 3 [45500/60000 (76%)]\tLoss: 0.317474\n",
            "Train Epoch: 3 [46200/60000 (77%)]\tLoss: 0.236449\n",
            "Train Epoch: 3 [46900/60000 (78%)]\tLoss: 0.279096\n",
            "Train Epoch: 3 [47600/60000 (79%)]\tLoss: 0.269752\n",
            "Train Epoch: 3 [48300/60000 (80%)]\tLoss: 0.354064\n",
            "Train Epoch: 3 [49000/60000 (82%)]\tLoss: 0.220406\n",
            "Train Epoch: 3 [49700/60000 (83%)]\tLoss: 0.364706\n",
            "Train Epoch: 3 [50400/60000 (84%)]\tLoss: 0.368811\n",
            "Train Epoch: 3 [51100/60000 (85%)]\tLoss: 0.241585\n",
            "Train Epoch: 3 [51800/60000 (86%)]\tLoss: 0.436424\n",
            "Train Epoch: 3 [52500/60000 (87%)]\tLoss: 0.366590\n",
            "Train Epoch: 3 [53200/60000 (89%)]\tLoss: 0.131542\n",
            "Train Epoch: 3 [53900/60000 (90%)]\tLoss: 0.306483\n",
            "Train Epoch: 3 [54600/60000 (91%)]\tLoss: 0.217009\n",
            "Train Epoch: 3 [55300/60000 (92%)]\tLoss: 0.250415\n",
            "Train Epoch: 3 [56000/60000 (93%)]\tLoss: 0.319615\n",
            "Train Epoch: 3 [56700/60000 (94%)]\tLoss: 0.190124\n",
            "Train Epoch: 3 [57400/60000 (96%)]\tLoss: 0.456950\n",
            "Train Epoch: 3 [58100/60000 (97%)]\tLoss: 0.224967\n",
            "Train Epoch: 3 [58800/60000 (98%)]\tLoss: 0.355995\n",
            "Train Epoch: 3 [59500/60000 (99%)]\tLoss: 0.342559\n",
            "\n",
            "Test set: Avg. loss: 0.1034, Accuracy: 9688/10000 (97%)\n",
            "\n",
            "Train Epoch: 4 [0/60000 (0%)]\tLoss: 0.312990\n",
            "Train Epoch: 4 [700/60000 (1%)]\tLoss: 0.234430\n",
            "Train Epoch: 4 [1400/60000 (2%)]\tLoss: 0.274532\n",
            "Train Epoch: 4 [2100/60000 (3%)]\tLoss: 0.173194\n",
            "Train Epoch: 4 [2800/60000 (5%)]\tLoss: 0.311784\n",
            "Train Epoch: 4 [3500/60000 (6%)]\tLoss: 0.301595\n",
            "Train Epoch: 4 [4200/60000 (7%)]\tLoss: 0.390848\n",
            "Train Epoch: 4 [4900/60000 (8%)]\tLoss: 0.241686\n",
            "Train Epoch: 4 [5600/60000 (9%)]\tLoss: 0.318685\n",
            "Train Epoch: 4 [6300/60000 (10%)]\tLoss: 0.334834\n",
            "Train Epoch: 4 [7000/60000 (12%)]\tLoss: 0.175836\n",
            "Train Epoch: 4 [7700/60000 (13%)]\tLoss: 0.240312\n",
            "Train Epoch: 4 [8400/60000 (14%)]\tLoss: 0.431716\n",
            "Train Epoch: 4 [9100/60000 (15%)]\tLoss: 0.085471\n",
            "Train Epoch: 4 [9800/60000 (16%)]\tLoss: 0.349836\n",
            "Train Epoch: 4 [10500/60000 (17%)]\tLoss: 0.265941\n",
            "Train Epoch: 4 [11200/60000 (19%)]\tLoss: 0.207714\n",
            "Train Epoch: 4 [11900/60000 (20%)]\tLoss: 0.373064\n",
            "Train Epoch: 4 [12600/60000 (21%)]\tLoss: 0.286682\n",
            "Train Epoch: 4 [13300/60000 (22%)]\tLoss: 0.239334\n",
            "Train Epoch: 4 [14000/60000 (23%)]\tLoss: 0.267519\n",
            "Train Epoch: 4 [14700/60000 (24%)]\tLoss: 0.224117\n",
            "Train Epoch: 4 [15400/60000 (26%)]\tLoss: 0.349830\n",
            "Train Epoch: 4 [16100/60000 (27%)]\tLoss: 0.286951\n",
            "Train Epoch: 4 [16800/60000 (28%)]\tLoss: 0.246542\n",
            "Train Epoch: 4 [17500/60000 (29%)]\tLoss: 0.272098\n",
            "Train Epoch: 4 [18200/60000 (30%)]\tLoss: 0.170060\n",
            "Train Epoch: 4 [18900/60000 (31%)]\tLoss: 0.311029\n",
            "Train Epoch: 4 [19600/60000 (33%)]\tLoss: 0.207366\n",
            "Train Epoch: 4 [20300/60000 (34%)]\tLoss: 0.321981\n",
            "Train Epoch: 4 [21000/60000 (35%)]\tLoss: 0.223616\n",
            "Train Epoch: 4 [21700/60000 (36%)]\tLoss: 0.392233\n",
            "Train Epoch: 4 [22400/60000 (37%)]\tLoss: 0.218320\n",
            "Train Epoch: 4 [23100/60000 (38%)]\tLoss: 0.406429\n",
            "Train Epoch: 4 [23800/60000 (40%)]\tLoss: 0.272191\n",
            "Train Epoch: 4 [24500/60000 (41%)]\tLoss: 0.280413\n",
            "Train Epoch: 4 [25200/60000 (42%)]\tLoss: 0.186333\n",
            "Train Epoch: 4 [25900/60000 (43%)]\tLoss: 0.221626\n",
            "Train Epoch: 4 [26600/60000 (44%)]\tLoss: 0.234840\n",
            "Train Epoch: 4 [27300/60000 (45%)]\tLoss: 0.201690\n",
            "Train Epoch: 4 [28000/60000 (47%)]\tLoss: 0.446009\n",
            "Train Epoch: 4 [28700/60000 (48%)]\tLoss: 0.198561\n",
            "Train Epoch: 4 [29400/60000 (49%)]\tLoss: 0.297922\n",
            "Train Epoch: 4 [30100/60000 (50%)]\tLoss: 0.248072\n",
            "Train Epoch: 4 [30800/60000 (51%)]\tLoss: 0.335351\n",
            "Train Epoch: 4 [31500/60000 (52%)]\tLoss: 0.311528\n",
            "Train Epoch: 4 [32200/60000 (54%)]\tLoss: 0.210828\n",
            "Train Epoch: 4 [32900/60000 (55%)]\tLoss: 0.145270\n",
            "Train Epoch: 4 [33600/60000 (56%)]\tLoss: 0.360156\n",
            "Train Epoch: 4 [34300/60000 (57%)]\tLoss: 0.242757\n",
            "Train Epoch: 4 [35000/60000 (58%)]\tLoss: 0.230271\n",
            "Train Epoch: 4 [35700/60000 (59%)]\tLoss: 0.214594\n",
            "Train Epoch: 4 [36400/60000 (61%)]\tLoss: 0.305281\n",
            "Train Epoch: 4 [37100/60000 (62%)]\tLoss: 0.354271\n",
            "Train Epoch: 4 [37800/60000 (63%)]\tLoss: 0.357217\n",
            "Train Epoch: 4 [38500/60000 (64%)]\tLoss: 0.260281\n",
            "Train Epoch: 4 [39200/60000 (65%)]\tLoss: 0.264934\n",
            "Train Epoch: 4 [39900/60000 (66%)]\tLoss: 0.295462\n",
            "Train Epoch: 4 [40600/60000 (68%)]\tLoss: 0.398018\n",
            "Train Epoch: 4 [41300/60000 (69%)]\tLoss: 0.489729\n",
            "Train Epoch: 4 [42000/60000 (70%)]\tLoss: 0.381889\n",
            "Train Epoch: 4 [42700/60000 (71%)]\tLoss: 0.293530\n",
            "Train Epoch: 4 [43400/60000 (72%)]\tLoss: 0.173817\n",
            "Train Epoch: 4 [44100/60000 (73%)]\tLoss: 0.151366\n",
            "Train Epoch: 4 [44800/60000 (75%)]\tLoss: 0.257845\n",
            "Train Epoch: 4 [45500/60000 (76%)]\tLoss: 0.316438\n",
            "Train Epoch: 4 [46200/60000 (77%)]\tLoss: 0.147589\n",
            "Train Epoch: 4 [46900/60000 (78%)]\tLoss: 0.170866\n",
            "Train Epoch: 4 [47600/60000 (79%)]\tLoss: 0.376915\n",
            "Train Epoch: 4 [48300/60000 (80%)]\tLoss: 0.276708\n",
            "Train Epoch: 4 [49000/60000 (82%)]\tLoss: 0.287571\n",
            "Train Epoch: 4 [49700/60000 (83%)]\tLoss: 0.270169\n",
            "Train Epoch: 4 [50400/60000 (84%)]\tLoss: 0.431510\n",
            "Train Epoch: 4 [51100/60000 (85%)]\tLoss: 0.410886\n",
            "Train Epoch: 4 [51800/60000 (86%)]\tLoss: 0.407291\n",
            "Train Epoch: 4 [52500/60000 (87%)]\tLoss: 0.286639\n",
            "Train Epoch: 4 [53200/60000 (89%)]\tLoss: 0.302167\n",
            "Train Epoch: 4 [53900/60000 (90%)]\tLoss: 0.264614\n",
            "Train Epoch: 4 [54600/60000 (91%)]\tLoss: 0.137733\n",
            "Train Epoch: 4 [55300/60000 (92%)]\tLoss: 0.155763\n",
            "Train Epoch: 4 [56000/60000 (93%)]\tLoss: 0.204512\n",
            "Train Epoch: 4 [56700/60000 (94%)]\tLoss: 0.312308\n",
            "Train Epoch: 4 [57400/60000 (96%)]\tLoss: 0.278167\n",
            "Train Epoch: 4 [58100/60000 (97%)]\tLoss: 0.150901\n",
            "Train Epoch: 4 [58800/60000 (98%)]\tLoss: 0.133147\n",
            "Train Epoch: 4 [59500/60000 (99%)]\tLoss: 0.271352\n",
            "\n",
            "Test set: Avg. loss: 0.0848, Accuracy: 9732/10000 (97%)\n",
            "\n"
          ]
        }
      ]
    },
    {
      "cell_type": "code",
      "source": [
        "#menampilkan visual plot data hasil training\n",
        "fig = plt.figure()\n",
        "plt.plot(train_counter, train_losses, color='blue')\n",
        "plt.scatter(test_counter, test_losses, color='red')\n",
        "plt.legend(['Train Loss', 'Test Loss'], loc='upper right')\n",
        "plt.xlabel('number of training examples seen')\n",
        "plt.ylabel('negative log likelihood loss')\n",
        "fig"
      ],
      "metadata": {
        "colab": {
          "base_uri": "https://localhost:8080/",
          "height": 541
        },
        "id": "yxi-F4RyOEwc",
        "outputId": "98b48af8-3420-4a56-aabd-506cb8c53dbe"
      },
      "execution_count": 50,
      "outputs": [
        {
          "output_type": "execute_result",
          "data": {
            "image/png": "[encoded data removed]",
            "text/plain": [
              "<Figure size 432x288 with 1 Axes>"
            ]
          },
          "metadata": {},
          "execution_count": 50
        },
        {
          "output_type": "display_data",
          "data": {
            "image/png": "[encoded data removed]",
            "text/plain": [
              "<Figure size 432x288 with 1 Axes>"
            ]
          },
          "metadata": {
            "needs_background": "light"
          }
        }
      ]
    }
  ]
}